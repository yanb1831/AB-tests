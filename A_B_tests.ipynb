{
 "cells": [
  {
   "cell_type": "markdown",
   "id": "102a49d8-42dc-42c0-9b82-53a2c8b8f8b5",
   "metadata": {
    "tags": []
   },
   "source": [
    "# A/B тесты"
   ]
  },
  {
   "cell_type": "markdown",
   "id": "38a80608-da75-41fd-9d66-e6e733faf3c8",
   "metadata": {
    "tags": []
   },
   "source": [
    "## Задание 1. \n",
    "У нас есть данные АА-теста с '2022-07-06' по '2022-07-12'. Вам нужно сделать симуляцию, как будто мы провели 10000 АА-тестов. На каждой итерации вам нужно сформировать подвыборки без повторения в 500 юзеров из 2 и 3 экспериментальной группы. Провести сравнение этих подвыборок t-testом.\n",
    "\n",
    "1. Построить гистограмму распределения получившихся 10000 p-values.\n",
    "\n",
    "2. Посчитать, какой процент p values оказался меньше либо равен 0.05\n",
    "\n",
    "3. Написать вывод по проведенному АА-тесту, корректно ли работает наша система сплитования.\n",
    "\n",
    "4. Пришлите ссылку на merge request c проведенным анализом."
   ]
  },
  {
   "cell_type": "code",
   "execution_count": 1,
   "id": "78229883-b0ff-4e6d-971e-0f6b7fa4c31c",
   "metadata": {
    "tags": []
   },
   "outputs": [],
   "source": [
    "# библиотеки\n",
    "import pandas as pd\n",
    "import numpy as np \n",
    "import scipy.stats as stats\n",
    "import pandahouse as ph\n",
    "import seaborn as sns\n",
    "import matplotlib.pyplot as plt\n",
    "import scipy\n",
    "from scipy.stats import ttest_ind\n",
    "from tqdm import tqdm\n",
    "from yaml import load, FullLoader"
   ]
  },
  {
   "cell_type": "code",
   "execution_count": 2,
   "id": "72a6dd57",
   "metadata": {},
   "outputs": [],
   "source": [
    "# стили\n",
    "plt.style.use('dark_background')"
   ]
  },
  {
   "cell_type": "code",
   "execution_count": 3,
   "id": "227dae5b",
   "metadata": {},
   "outputs": [],
   "source": [
    "config = load(open('config_ab.yaml'), Loader=FullLoader)\n",
    "\n",
    "connection = {\n",
    "    'host': config['ab tests']['host'],\n",
    "    'database':'simulator_20220820',\n",
    "    'user':'student', \n",
    "    'password': config['ab tests']['password']\n",
    "}"
   ]
  },
  {
   "cell_type": "code",
   "execution_count": 4,
   "id": "58abce00-59c1-4fba-8c60-472ca1a16bc2",
   "metadata": {},
   "outputs": [],
   "source": [
    "def select(query):\n",
    "    return ph.read_clickhouse(query, connection=connection)\n",
    "\n",
    "def df_info(data):\n",
    "    table_info = (\n",
    "        pd.DataFrame(\n",
    "            {\n",
    "                'column_type':data.dtypes,\n",
    "                'row_count':data.count(),\n",
    "                'unique_count':data.nunique(),\n",
    "                'duplicated_count':data.duplicated().sum(),\n",
    "                'duplicated_pct':data.duplicated().mean(),\n",
    "                'nan_count':data.isna().sum(),\n",
    "                'nan_pct':data.isna().mean(),\n",
    "                'min':data.min(),\n",
    "                'max':data.max(),\n",
    "                'mean':data.mean(numeric_only=True)\n",
    "            }\n",
    "        )\n",
    "        .sort_values(by='nan_count',ascending=False)\n",
    "        .style.format(\n",
    "            {\n",
    "                'unique_pct': '{:.1%}',\n",
    "                'duplicated_pct': '{:.1%}',\n",
    "                'nan_pct': '{:.1%}',\n",
    "            }\n",
    "        )\n",
    "    )\n",
    "    return display(table_info)"
   ]
  },
  {
   "cell_type": "code",
   "execution_count": 5,
   "id": "3920e94f-0694-4775-81b5-c13d04632113",
   "metadata": {},
   "outputs": [],
   "source": [
    "query = '''\n",
    "    SELECT exp_group,\n",
    "           user_id,\n",
    "           sum(action = 'like') as likes,\n",
    "           sum(action = 'view') as views,\n",
    "           likes/views as ctr\n",
    "    FROM {db}.feed_actions\n",
    "    WHERE toDate(time) BETWEEN '2022-07-06' AND '2022-07-12' AND exp_group IN (2,3)\n",
    "    GROUP BY exp_group, user_id\n",
    "'''"
   ]
  },
  {
   "cell_type": "code",
   "execution_count": 6,
   "id": "86a4b87a-4f77-4af1-bbe5-134c21732d5d",
   "metadata": {},
   "outputs": [],
   "source": [
    "df = select(query)"
   ]
  },
  {
   "cell_type": "code",
   "execution_count": 7,
   "id": "b94822e4-e4fd-4095-9cb2-d2f3da2ece84",
   "metadata": {},
   "outputs": [
    {
     "data": {
      "text/html": [
       "<style type=\"text/css\">\n",
       "</style>\n",
       "<table id=\"T_3dddc_\">\n",
       "  <thead>\n",
       "    <tr>\n",
       "      <th class=\"blank level0\" >&nbsp;</th>\n",
       "      <th class=\"col_heading level0 col0\" >column_type</th>\n",
       "      <th class=\"col_heading level0 col1\" >row_count</th>\n",
       "      <th class=\"col_heading level0 col2\" >unique_count</th>\n",
       "      <th class=\"col_heading level0 col3\" >duplicated_count</th>\n",
       "      <th class=\"col_heading level0 col4\" >duplicated_pct</th>\n",
       "      <th class=\"col_heading level0 col5\" >nan_count</th>\n",
       "      <th class=\"col_heading level0 col6\" >nan_pct</th>\n",
       "      <th class=\"col_heading level0 col7\" >min</th>\n",
       "      <th class=\"col_heading level0 col8\" >max</th>\n",
       "      <th class=\"col_heading level0 col9\" >mean</th>\n",
       "    </tr>\n",
       "  </thead>\n",
       "  <tbody>\n",
       "    <tr>\n",
       "      <th id=\"T_3dddc_level0_row0\" class=\"row_heading level0 row0\" >exp_group</th>\n",
       "      <td id=\"T_3dddc_row0_col0\" class=\"data row0 col0\" >int8</td>\n",
       "      <td id=\"T_3dddc_row0_col1\" class=\"data row0 col1\" >17049</td>\n",
       "      <td id=\"T_3dddc_row0_col2\" class=\"data row0 col2\" >2</td>\n",
       "      <td id=\"T_3dddc_row0_col3\" class=\"data row0 col3\" >0</td>\n",
       "      <td id=\"T_3dddc_row0_col4\" class=\"data row0 col4\" >0.0%</td>\n",
       "      <td id=\"T_3dddc_row0_col5\" class=\"data row0 col5\" >0</td>\n",
       "      <td id=\"T_3dddc_row0_col6\" class=\"data row0 col6\" >0.0%</td>\n",
       "      <td id=\"T_3dddc_row0_col7\" class=\"data row0 col7\" >2.000000</td>\n",
       "      <td id=\"T_3dddc_row0_col8\" class=\"data row0 col8\" >3.000000</td>\n",
       "      <td id=\"T_3dddc_row0_col9\" class=\"data row0 col9\" >2.502610</td>\n",
       "    </tr>\n",
       "    <tr>\n",
       "      <th id=\"T_3dddc_level0_row1\" class=\"row_heading level0 row1\" >user_id</th>\n",
       "      <td id=\"T_3dddc_row1_col0\" class=\"data row1 col0\" >uint32</td>\n",
       "      <td id=\"T_3dddc_row1_col1\" class=\"data row1 col1\" >17049</td>\n",
       "      <td id=\"T_3dddc_row1_col2\" class=\"data row1 col2\" >17049</td>\n",
       "      <td id=\"T_3dddc_row1_col3\" class=\"data row1 col3\" >0</td>\n",
       "      <td id=\"T_3dddc_row1_col4\" class=\"data row1 col4\" >0.0%</td>\n",
       "      <td id=\"T_3dddc_row1_col5\" class=\"data row1 col5\" >0</td>\n",
       "      <td id=\"T_3dddc_row1_col6\" class=\"data row1 col6\" >0.0%</td>\n",
       "      <td id=\"T_3dddc_row1_col7\" class=\"data row1 col7\" >200.000000</td>\n",
       "      <td id=\"T_3dddc_row1_col8\" class=\"data row1 col8\" >133642.000000</td>\n",
       "      <td id=\"T_3dddc_row1_col9\" class=\"data row1 col9\" >69403.161476</td>\n",
       "    </tr>\n",
       "    <tr>\n",
       "      <th id=\"T_3dddc_level0_row2\" class=\"row_heading level0 row2\" >likes</th>\n",
       "      <td id=\"T_3dddc_row2_col0\" class=\"data row2 col0\" >uint64</td>\n",
       "      <td id=\"T_3dddc_row2_col1\" class=\"data row2 col1\" >17049</td>\n",
       "      <td id=\"T_3dddc_row2_col2\" class=\"data row2 col2\" >79</td>\n",
       "      <td id=\"T_3dddc_row2_col3\" class=\"data row2 col3\" >0</td>\n",
       "      <td id=\"T_3dddc_row2_col4\" class=\"data row2 col4\" >0.0%</td>\n",
       "      <td id=\"T_3dddc_row2_col5\" class=\"data row2 col5\" >0</td>\n",
       "      <td id=\"T_3dddc_row2_col6\" class=\"data row2 col6\" >0.0%</td>\n",
       "      <td id=\"T_3dddc_row2_col7\" class=\"data row2 col7\" >0.000000</td>\n",
       "      <td id=\"T_3dddc_row2_col8\" class=\"data row2 col8\" >83.000000</td>\n",
       "      <td id=\"T_3dddc_row2_col9\" class=\"data row2 col9\" >15.573699</td>\n",
       "    </tr>\n",
       "    <tr>\n",
       "      <th id=\"T_3dddc_level0_row3\" class=\"row_heading level0 row3\" >views</th>\n",
       "      <td id=\"T_3dddc_row3_col0\" class=\"data row3 col0\" >uint64</td>\n",
       "      <td id=\"T_3dddc_row3_col1\" class=\"data row3 col1\" >17049</td>\n",
       "      <td id=\"T_3dddc_row3_col2\" class=\"data row3 col2\" >293</td>\n",
       "      <td id=\"T_3dddc_row3_col3\" class=\"data row3 col3\" >0</td>\n",
       "      <td id=\"T_3dddc_row3_col4\" class=\"data row3 col4\" >0.0%</td>\n",
       "      <td id=\"T_3dddc_row3_col5\" class=\"data row3 col5\" >0</td>\n",
       "      <td id=\"T_3dddc_row3_col6\" class=\"data row3 col6\" >0.0%</td>\n",
       "      <td id=\"T_3dddc_row3_col7\" class=\"data row3 col7\" >1.000000</td>\n",
       "      <td id=\"T_3dddc_row3_col8\" class=\"data row3 col8\" >369.000000</td>\n",
       "      <td id=\"T_3dddc_row3_col9\" class=\"data row3 col9\" >73.797349</td>\n",
       "    </tr>\n",
       "    <tr>\n",
       "      <th id=\"T_3dddc_level0_row4\" class=\"row_heading level0 row4\" >ctr</th>\n",
       "      <td id=\"T_3dddc_row4_col0\" class=\"data row4 col0\" >float64</td>\n",
       "      <td id=\"T_3dddc_row4_col1\" class=\"data row4 col1\" >17049</td>\n",
       "      <td id=\"T_3dddc_row4_col2\" class=\"data row4 col2\" >2422</td>\n",
       "      <td id=\"T_3dddc_row4_col3\" class=\"data row4 col3\" >0</td>\n",
       "      <td id=\"T_3dddc_row4_col4\" class=\"data row4 col4\" >0.0%</td>\n",
       "      <td id=\"T_3dddc_row4_col5\" class=\"data row4 col5\" >0</td>\n",
       "      <td id=\"T_3dddc_row4_col6\" class=\"data row4 col6\" >0.0%</td>\n",
       "      <td id=\"T_3dddc_row4_col7\" class=\"data row4 col7\" >0.000000</td>\n",
       "      <td id=\"T_3dddc_row4_col8\" class=\"data row4 col8\" >0.714286</td>\n",
       "      <td id=\"T_3dddc_row4_col9\" class=\"data row4 col9\" >0.218706</td>\n",
       "    </tr>\n",
       "  </tbody>\n",
       "</table>\n"
      ],
      "text/plain": [
       "<pandas.io.formats.style.Styler at 0x7f9ce9050160>"
      ]
     },
     "metadata": {},
     "output_type": "display_data"
    }
   ],
   "source": [
    "df_info(df)"
   ]
  },
  {
   "cell_type": "code",
   "execution_count": 8,
   "id": "680bd8ec-f895-4278-870a-b81cbc560c05",
   "metadata": {},
   "outputs": [
    {
     "data": {
      "text/html": [
       "<div>\n",
       "<style scoped>\n",
       "    .dataframe tbody tr th:only-of-type {\n",
       "        vertical-align: middle;\n",
       "    }\n",
       "\n",
       "    .dataframe tbody tr th {\n",
       "        vertical-align: top;\n",
       "    }\n",
       "\n",
       "    .dataframe thead th {\n",
       "        text-align: right;\n",
       "    }\n",
       "</style>\n",
       "<table border=\"1\" class=\"dataframe\">\n",
       "  <thead>\n",
       "    <tr style=\"text-align: right;\">\n",
       "      <th></th>\n",
       "      <th>exp_group</th>\n",
       "    </tr>\n",
       "  </thead>\n",
       "  <tbody>\n",
       "    <tr>\n",
       "      <th>3</th>\n",
       "      <td>8569</td>\n",
       "    </tr>\n",
       "    <tr>\n",
       "      <th>2</th>\n",
       "      <td>8480</td>\n",
       "    </tr>\n",
       "  </tbody>\n",
       "</table>\n",
       "</div>"
      ],
      "text/plain": [
       "   exp_group\n",
       "3       8569\n",
       "2       8480"
      ]
     },
     "execution_count": 8,
     "metadata": {},
     "output_type": "execute_result"
    }
   ],
   "source": [
    "df.exp_group.value_counts().to_frame()"
   ]
  },
  {
   "cell_type": "markdown",
   "id": "bbb524da-3fc0-4bfe-aec4-dbde2db6bee2",
   "metadata": {},
   "source": [
    "группы примерно одинакового размера"
   ]
  },
  {
   "cell_type": "code",
   "execution_count": 9,
   "id": "e60dc6a9-e2e1-4f2f-a951-629e9417d67b",
   "metadata": {},
   "outputs": [
    {
     "data": {
      "image/png": "[encoded data removed]",
      "text/plain": [
       "<Figure size 864x432 with 1 Axes>"
      ]
     },
     "metadata": {},
     "output_type": "display_data"
    }
   ],
   "source": [
    "fig, ax = plt.subplots(figsize=(12, 6))\n",
    "sns.histplot(\n",
    "    data=df,\n",
    "    x='ctr',\n",
    "    hue='exp_group',\n",
    "    palette=['r','b'],\n",
    "    alpha=0.5\n",
    ")\n",
    "ax.set_title('Распределение ctr')\n",
    "plt.show()"
   ]
  },
  {
   "cell_type": "markdown",
   "id": "948de5b0-d408-4325-a749-12700e687f6a",
   "metadata": {},
   "source": [
    "Для t-testa не требуется нормальность распределения, требуется нормальность среднего распределения. Cогласно ЦПТ случайные выборочные средние будут стремиться к нормальному распределению."
   ]
  },
  {
   "cell_type": "code",
   "execution_count": 10,
   "id": "90d31701-65b3-49d2-8202-bee5facdf35f",
   "metadata": {},
   "outputs": [
    {
     "name": "stderr",
     "output_type": "stream",
     "text": [
      "100%|███████████████████████████████████| 10000/10000 [00:03<00:00, 3158.87it/s]\n"
     ]
    },
    {
     "data": {
      "image/png": "[encoded data removed]",
      "text/plain": [
       "<Figure size 1512x432 with 2 Axes>"
      ]
     },
     "metadata": {},
     "output_type": "display_data"
    }
   ],
   "source": [
    "a = df.query('exp_group == 2')['ctr']\n",
    "n = 10000\n",
    "a_a = pd.Series([a.sample(len(a),replace=True).mean() for _ in tqdm(range(n))])\n",
    "\n",
    "fig, axes = plt.subplots(1,2, figsize=(21, 6))\n",
    "sns.histplot(a_a,kde=True,ax=axes[0])\n",
    "axes[0].set_title(f'Распределение случайных средних при n = {n}')\n",
    "\n",
    "stats.probplot(a_a, dist=\"norm\",plot=axes[1])\n",
    "axes[1].set_title('QQ plot')\n",
    "plt.show()"
   ]
  },
  {
   "cell_type": "markdown",
   "id": "a73c0f8f-60fa-4172-8103-bfe9f0673a79",
   "metadata": {},
   "source": [
    "На гистограмме видно, что случайные средние имеют нормальное распределение. С помощью **QQ-plot** проверяем, нормально ли распределены случайные средние значения (красная линия совпадает с синими точками)."
   ]
  },
  {
   "cell_type": "markdown",
   "id": "fd387c2a-3cfa-4a44-907b-a7dce641c5ef",
   "metadata": {},
   "source": [
    "Мы берем подвыборки с размерностью 500, без возвращения в корзину, т.е. изъятые значения уникальны, повторения значений для каждого юзера в данной подвыборке не будет, т.к. мы проводим ttest, то для сравнения подвыборок обязательно условие независимости таких значений, т.е. не должно быть повторений в подвыборке.\n",
    "Проводим для каждой такой подвыборки между группами 2 и 3 **ttest** со следующей гипотезой:  \n",
    "  \n",
    "**H0:** средний ctr группы A $=$ средний ctr группы B  \n",
    "**H1:**  средний ctr группы A $\\not=$ средний ctr группы B\n",
    "  \n",
    "На выходе получаем pvalue, в нашем случае количество таких экспериментов равно 10000"
   ]
  },
  {
   "cell_type": "code",
   "execution_count": 11,
   "id": "2c15bf04-9927-44ae-a81a-ae450fe2e435",
   "metadata": {},
   "outputs": [
    {
     "name": "stderr",
     "output_type": "stream",
     "text": [
      "100%|████████████████████████████████████| 10000/10000 [00:29<00:00, 335.59it/s]\n"
     ]
    }
   ],
   "source": [
    "b_n = 10000\n",
    "subsample_size = 500\n",
    "\n",
    "pval = [ttest_ind(\n",
    "    df.query('exp_group == 2').ctr.sample(subsample_size,replace=False),\n",
    "    df.query('exp_group == 3').ctr.sample(subsample_size,replace=False),\n",
    "    equal_var=False\n",
    ").pvalue for _ in tqdm(range(b_n))]\n",
    "pval = pd.Series(pval)"
   ]
  },
  {
   "cell_type": "code",
   "execution_count": 12,
   "id": "5ab27b60-22bb-421f-af1d-2b276909c361",
   "metadata": {},
   "outputs": [
    {
     "data": {
      "image/png": "[encoded data removed]",
      "text/plain": [
       "<Figure size 1584x432 with 2 Axes>"
      ]
     },
     "metadata": {},
     "output_type": "display_data"
    }
   ],
   "source": [
    "fig, axes = plt.subplots(1,2, figsize=(22, 6))\n",
    "sns.histplot(pval,stat='probability',ax=axes[0])\n",
    "stats.probplot(pval, dist=\"uniform\",plot=axes[1])\n",
    "axes[0].set_title('hist')\n",
    "plt.show()"
   ]
  },
  {
   "cell_type": "markdown",
   "id": "60badd22-975d-4a34-b1df-2bb7b51ecbd5",
   "metadata": {},
   "source": [
    "На гистограмме распределение выглядит равномерно(все столбцы примерно одинаковой высоты), чтобы убедиться в этом можно построить probability plot (красная линия совпадает с синими точками)."
   ]
  },
  {
   "cell_type": "code",
   "execution_count": 13,
   "id": "22f71f99-72e1-4f74-b294-0a7b39defc81",
   "metadata": {},
   "outputs": [
    {
     "name": "stdout",
     "output_type": "stream",
     "text": [
      "В 4.59% случаев нам удалось отклонить нулевую гипотезу\n"
     ]
    }
   ],
   "source": [
    "print('В {:.2%} случаев нам удалось отклонить нулевую гипотезу'.format((pval < 0.05).mean()))"
   ]
  },
  {
   "cell_type": "markdown",
   "id": "1a43e838-3fdb-4892-bf98-7dc734070d27",
   "metadata": {},
   "source": [
    "### Вывод:"
   ]
  },
  {
   "cell_type": "markdown",
   "id": "16085ab3-5650-4668-ba5c-65433a5face0",
   "metadata": {},
   "source": [
    "АА тест проводится для проверки искажений метрики (выбросы, дисперсия) и проверки сплитования групп. В результате случайного ложного срабатывания, приблизительно в 5% получаются статистические значимые различия между группами (A $\\not=$ B), наша система сплитования работает корректно.  \n",
    "Метрика ctr подходит для использования в AB эксперименте."
   ]
  },
  {
   "cell_type": "markdown",
   "id": "dc1e4f9b",
   "metadata": {},
   "source": [
    "---"
   ]
  },
  {
   "cell_type": "markdown",
   "id": "914bb987",
   "metadata": {},
   "source": [
    "## Задание 2. "
   ]
  },
  {
   "cell_type": "markdown",
   "id": "d069a0cc",
   "metadata": {},
   "source": [
    "Задача — проанализировать данные АB-теста. \n",
    "\n",
    "1.Выбрать метод анализа и сравнить CTR в двух группах (мы разбирали t-тест, Пуассоновский бутстреп, тест Манна-Уитни, t-тест на сглаженном ctr (α=5) а также t-тест и тест Манна-Уитни поверх бакетного преобразования).  \n",
    "2.Сравните данные этими тестами. А еще посмотрите на распределения глазами. Почему тесты сработали так как сработали?   \n",
    "3.Опишите потенциальную ситуацию, когда такое изменение могло произойти. Тут нет идеального ответа, подумайте.  \n",
    "4.Напишите рекомендацию, будем ли мы раскатывать новый алгоритм на всех новых пользователей или все-таки не стоит."
   ]
  },
  {
   "cell_type": "code",
   "execution_count": 14,
   "id": "4153a923",
   "metadata": {},
   "outputs": [],
   "source": [
    "# сглаженный ctr\n",
    "def get_smothed_ctr(user_likes, user_views, global_ctr, alpha):\n",
    "    smothed_ctr = (user_likes + alpha * global_ctr) / (user_views + alpha)\n",
    "    return smothed_ctr\n",
    "\n",
    "def mannwhitneyu(A,B,alpha=.05):\n",
    "    m_result = stats.mannwhitneyu(A,B,alternative='two-sided')\n",
    "    print(f'pvalue: {m_result.pvalue}')\n",
    "    if m_result.pvalue < alpha:\n",
    "        print('Отвергаем нулевую гипотезу')\n",
    "    else:\n",
    "        print('Не получилось отвергнуть нулевую гипотезу') \n",
    "        \n",
    "def ttest(A,B,alpha=.05):\n",
    "    t_result = ttest_ind(A,B,equal_var=False)\n",
    "    print(f'pvalue: {t_result.pvalue}')\n",
    "    if t_result.pvalue < alpha:\n",
    "        print('Отвергаем нулевую гипотезу')\n",
    "    else:\n",
    "        print('Не получилось отвергнуть нулевую гипотезу') \n",
    "\n",
    "def bootstrap(grp1,grp2,n_bootstrap=2000):\n",
    "    likes_1 = grp1.likes.to_numpy()\n",
    "    likes_2 = grp2.likes.to_numpy()\n",
    "    views_1 = grp1.views.to_numpy()\n",
    "    views_2 = grp2.views.to_numpy()\n",
    "    \n",
    "    weights_1 = stats.poisson(1).rvs(\n",
    "        (n_bootstrap, len(likes_1))).astype(np.int64)\n",
    "    weights_2 = stats.poisson(1).rvs(\n",
    "        (n_bootstrap, len(likes_2))).astype(np.int64) \n",
    "    \n",
    "    globalCTR_1 = (likes_1 * weights_1).sum(axis=1)/(views_1 * weights_1).sum(axis=1)\n",
    "    globalCTR_2 = (likes_2 * weights_2).sum(axis=1)/(views_2 * weights_2).sum(axis=1)\n",
    "    return globalCTR_1, globalCTR_2"
   ]
  },
  {
   "cell_type": "code",
   "execution_count": 15,
   "id": "cd08825e",
   "metadata": {},
   "outputs": [],
   "source": [
    "query = '''\n",
    "    SELECT exp_group,\n",
    "           user_id,\n",
    "           sum(action = 'like') as likes,\n",
    "           sum(action = 'view') as views,\n",
    "           likes/views as ctr\n",
    "    FROM {db}.feed_actions\n",
    "    WHERE toDate(time) BETWEEN '2022-07-13' AND '2022-07-19' AND exp_group IN (1,2)\n",
    "    GROUP BY exp_group, user_id\n",
    "'''"
   ]
  },
  {
   "cell_type": "code",
   "execution_count": 16,
   "id": "5c0f5916",
   "metadata": {},
   "outputs": [],
   "source": [
    "df = select(query)"
   ]
  },
  {
   "cell_type": "code",
   "execution_count": 17,
   "id": "07bb7b57",
   "metadata": {},
   "outputs": [
    {
     "data": {
      "text/html": [
       "<style type=\"text/css\">\n",
       "</style>\n",
       "<table id=\"T_ad231_\">\n",
       "  <thead>\n",
       "    <tr>\n",
       "      <th class=\"blank level0\" >&nbsp;</th>\n",
       "      <th class=\"col_heading level0 col0\" >column_type</th>\n",
       "      <th class=\"col_heading level0 col1\" >row_count</th>\n",
       "      <th class=\"col_heading level0 col2\" >unique_count</th>\n",
       "      <th class=\"col_heading level0 col3\" >duplicated_count</th>\n",
       "      <th class=\"col_heading level0 col4\" >duplicated_pct</th>\n",
       "      <th class=\"col_heading level0 col5\" >nan_count</th>\n",
       "      <th class=\"col_heading level0 col6\" >nan_pct</th>\n",
       "      <th class=\"col_heading level0 col7\" >min</th>\n",
       "      <th class=\"col_heading level0 col8\" >max</th>\n",
       "      <th class=\"col_heading level0 col9\" >mean</th>\n",
       "    </tr>\n",
       "  </thead>\n",
       "  <tbody>\n",
       "    <tr>\n",
       "      <th id=\"T_ad231_level0_row0\" class=\"row_heading level0 row0\" >exp_group</th>\n",
       "      <td id=\"T_ad231_row0_col0\" class=\"data row0 col0\" >int8</td>\n",
       "      <td id=\"T_ad231_row0_col1\" class=\"data row0 col1\" >20031</td>\n",
       "      <td id=\"T_ad231_row0_col2\" class=\"data row0 col2\" >2</td>\n",
       "      <td id=\"T_ad231_row0_col3\" class=\"data row0 col3\" >0</td>\n",
       "      <td id=\"T_ad231_row0_col4\" class=\"data row0 col4\" >0.0%</td>\n",
       "      <td id=\"T_ad231_row0_col5\" class=\"data row0 col5\" >0</td>\n",
       "      <td id=\"T_ad231_row0_col6\" class=\"data row0 col6\" >0.0%</td>\n",
       "      <td id=\"T_ad231_row0_col7\" class=\"data row0 col7\" >1.000000</td>\n",
       "      <td id=\"T_ad231_row0_col8\" class=\"data row0 col8\" >2.000000</td>\n",
       "      <td id=\"T_ad231_row0_col9\" class=\"data row0 col9\" >1.496830</td>\n",
       "    </tr>\n",
       "    <tr>\n",
       "      <th id=\"T_ad231_level0_row1\" class=\"row_heading level0 row1\" >user_id</th>\n",
       "      <td id=\"T_ad231_row1_col0\" class=\"data row1 col0\" >uint32</td>\n",
       "      <td id=\"T_ad231_row1_col1\" class=\"data row1 col1\" >20031</td>\n",
       "      <td id=\"T_ad231_row1_col2\" class=\"data row1 col2\" >20031</td>\n",
       "      <td id=\"T_ad231_row1_col3\" class=\"data row1 col3\" >0</td>\n",
       "      <td id=\"T_ad231_row1_col4\" class=\"data row1 col4\" >0.0%</td>\n",
       "      <td id=\"T_ad231_row1_col5\" class=\"data row1 col5\" >0</td>\n",
       "      <td id=\"T_ad231_row1_col6\" class=\"data row1 col6\" >0.0%</td>\n",
       "      <td id=\"T_ad231_row1_col7\" class=\"data row1 col7\" >206.000000</td>\n",
       "      <td id=\"T_ad231_row1_col8\" class=\"data row1 col8\" >141164.000000</td>\n",
       "      <td id=\"T_ad231_row1_col9\" class=\"data row1 col9\" >75343.140432</td>\n",
       "    </tr>\n",
       "    <tr>\n",
       "      <th id=\"T_ad231_level0_row2\" class=\"row_heading level0 row2\" >likes</th>\n",
       "      <td id=\"T_ad231_row2_col0\" class=\"data row2 col0\" >uint64</td>\n",
       "      <td id=\"T_ad231_row2_col1\" class=\"data row2 col1\" >20031</td>\n",
       "      <td id=\"T_ad231_row2_col2\" class=\"data row2 col2\" >84</td>\n",
       "      <td id=\"T_ad231_row2_col3\" class=\"data row2 col3\" >0</td>\n",
       "      <td id=\"T_ad231_row2_col4\" class=\"data row2 col4\" >0.0%</td>\n",
       "      <td id=\"T_ad231_row2_col5\" class=\"data row2 col5\" >0</td>\n",
       "      <td id=\"T_ad231_row2_col6\" class=\"data row2 col6\" >0.0%</td>\n",
       "      <td id=\"T_ad231_row2_col7\" class=\"data row2 col7\" >0.000000</td>\n",
       "      <td id=\"T_ad231_row2_col8\" class=\"data row2 col8\" >95.000000</td>\n",
       "      <td id=\"T_ad231_row2_col9\" class=\"data row2 col9\" >13.448954</td>\n",
       "    </tr>\n",
       "    <tr>\n",
       "      <th id=\"T_ad231_level0_row3\" class=\"row_heading level0 row3\" >views</th>\n",
       "      <td id=\"T_ad231_row3_col0\" class=\"data row3 col0\" >uint64</td>\n",
       "      <td id=\"T_ad231_row3_col1\" class=\"data row3 col1\" >20031</td>\n",
       "      <td id=\"T_ad231_row3_col2\" class=\"data row3 col2\" >280</td>\n",
       "      <td id=\"T_ad231_row3_col3\" class=\"data row3 col3\" >0</td>\n",
       "      <td id=\"T_ad231_row3_col4\" class=\"data row3 col4\" >0.0%</td>\n",
       "      <td id=\"T_ad231_row3_col5\" class=\"data row3 col5\" >0</td>\n",
       "      <td id=\"T_ad231_row3_col6\" class=\"data row3 col6\" >0.0%</td>\n",
       "      <td id=\"T_ad231_row3_col7\" class=\"data row3 col7\" >1.000000</td>\n",
       "      <td id=\"T_ad231_row3_col8\" class=\"data row3 col8\" >321.000000</td>\n",
       "      <td id=\"T_ad231_row3_col9\" class=\"data row3 col9\" >66.224652</td>\n",
       "    </tr>\n",
       "    <tr>\n",
       "      <th id=\"T_ad231_level0_row4\" class=\"row_heading level0 row4\" >ctr</th>\n",
       "      <td id=\"T_ad231_row4_col0\" class=\"data row4 col0\" >float64</td>\n",
       "      <td id=\"T_ad231_row4_col1\" class=\"data row4 col1\" >20031</td>\n",
       "      <td id=\"T_ad231_row4_col2\" class=\"data row4 col2\" >2782</td>\n",
       "      <td id=\"T_ad231_row4_col3\" class=\"data row4 col3\" >0</td>\n",
       "      <td id=\"T_ad231_row4_col4\" class=\"data row4 col4\" >0.0%</td>\n",
       "      <td id=\"T_ad231_row4_col5\" class=\"data row4 col5\" >0</td>\n",
       "      <td id=\"T_ad231_row4_col6\" class=\"data row4 col6\" >0.0%</td>\n",
       "      <td id=\"T_ad231_row4_col7\" class=\"data row4 col7\" >0.000000</td>\n",
       "      <td id=\"T_ad231_row4_col8\" class=\"data row4 col8\" >0.923077</td>\n",
       "      <td id=\"T_ad231_row4_col9\" class=\"data row4 col9\" >0.215016</td>\n",
       "    </tr>\n",
       "  </tbody>\n",
       "</table>\n"
      ],
      "text/plain": [
       "<pandas.io.formats.style.Styler at 0x7f9d08d237f0>"
      ]
     },
     "metadata": {},
     "output_type": "display_data"
    }
   ],
   "source": [
    "df_info(df)"
   ]
  },
  {
   "cell_type": "code",
   "execution_count": 18,
   "id": "5fcc8870",
   "metadata": {},
   "outputs": [
    {
     "data": {
      "text/html": [
       "<div>\n",
       "<style scoped>\n",
       "    .dataframe tbody tr th:only-of-type {\n",
       "        vertical-align: middle;\n",
       "    }\n",
       "\n",
       "    .dataframe tbody tr th {\n",
       "        vertical-align: top;\n",
       "    }\n",
       "\n",
       "    .dataframe thead th {\n",
       "        text-align: right;\n",
       "    }\n",
       "</style>\n",
       "<table border=\"1\" class=\"dataframe\">\n",
       "  <thead>\n",
       "    <tr style=\"text-align: right;\">\n",
       "      <th></th>\n",
       "      <th>exp_group</th>\n",
       "    </tr>\n",
       "  </thead>\n",
       "  <tbody>\n",
       "    <tr>\n",
       "      <th>1</th>\n",
       "      <td>10079</td>\n",
       "    </tr>\n",
       "    <tr>\n",
       "      <th>2</th>\n",
       "      <td>9952</td>\n",
       "    </tr>\n",
       "  </tbody>\n",
       "</table>\n",
       "</div>"
      ],
      "text/plain": [
       "   exp_group\n",
       "1      10079\n",
       "2       9952"
      ]
     },
     "execution_count": 18,
     "metadata": {},
     "output_type": "execute_result"
    }
   ],
   "source": [
    "df.exp_group.value_counts().to_frame()"
   ]
  },
  {
   "cell_type": "code",
   "execution_count": 19,
   "id": "2470c9c1",
   "metadata": {},
   "outputs": [],
   "source": [
    "A_sample = df[df['exp_group'] == 2].copy()\n",
    "B_sample = df[df['exp_group'] == 1].copy()\n",
    "\n",
    "A_sample['smothed_ctr'] = df.apply(\n",
    "    lambda x: get_smothed_ctr(x['likes'], x['views'], A_sample.ctr.sum(), 5), axis=1)\n",
    "B_sample['smothed_ctr'] = df.apply(\n",
    "    lambda x: get_smothed_ctr(x['likes'], x['views'], B_sample.ctr.sum(), 5), axis=1)"
   ]
  },
  {
   "cell_type": "code",
   "execution_count": 20,
   "id": "2b97a0eb",
   "metadata": {},
   "outputs": [
    {
     "data": {
      "image/png": "[encoded data removed]",
      "text/plain": [
       "<Figure size 1512x432 with 2 Axes>"
      ]
     },
     "metadata": {},
     "output_type": "display_data"
    }
   ],
   "source": [
    "fig, ax = plt.subplots(1,2, figsize=(21, 6))\n",
    "sns.histplot(\n",
    "    data=df,\n",
    "    x='ctr',\n",
    "    hue='exp_group',\n",
    "    palette=['r','b'],\n",
    "    alpha=0.5,\n",
    "    ax=ax[0])\n",
    "sns.histplot(\n",
    "    data=pd.concat([A_sample, B_sample]),\n",
    "    x='smothed_ctr',\n",
    "    hue='exp_group',\n",
    "    palette=['r','b'],\n",
    "    alpha=0.5,\n",
    "    ax=ax[1])\n",
    "ax[0].set_title('Распределение ctr')\n",
    "ax[1].set_title('Распределение сглаженного ctr')\n",
    "plt.show()"
   ]
  },
  {
   "cell_type": "markdown",
   "id": "417ec84b",
   "metadata": {},
   "source": [
    "распределения ctr двух групп различны"
   ]
  },
  {
   "cell_type": "code",
   "execution_count": 21,
   "id": "ccda338c",
   "metadata": {},
   "outputs": [
    {
     "data": {
      "text/html": [
       "<div>\n",
       "<style scoped>\n",
       "    .dataframe tbody tr th:only-of-type {\n",
       "        vertical-align: middle;\n",
       "    }\n",
       "\n",
       "    .dataframe tbody tr th {\n",
       "        vertical-align: top;\n",
       "    }\n",
       "\n",
       "    .dataframe thead th {\n",
       "        text-align: right;\n",
       "    }\n",
       "</style>\n",
       "<table border=\"1\" class=\"dataframe\">\n",
       "  <thead>\n",
       "    <tr style=\"text-align: right;\">\n",
       "      <th></th>\n",
       "      <th>A_mean</th>\n",
       "      <th>B_mean</th>\n",
       "      <th>A_std</th>\n",
       "      <th>B_std</th>\n",
       "    </tr>\n",
       "  </thead>\n",
       "  <tbody>\n",
       "    <tr>\n",
       "      <th>0</th>\n",
       "      <td>0.214419</td>\n",
       "      <td>0.215605</td>\n",
       "      <td>0.14418</td>\n",
       "      <td>0.08416</td>\n",
       "    </tr>\n",
       "  </tbody>\n",
       "</table>\n",
       "</div>"
      ],
      "text/plain": [
       "     A_mean    B_mean    A_std    B_std\n",
       "0  0.214419  0.215605  0.14418  0.08416"
      ]
     },
     "execution_count": 21,
     "metadata": {},
     "output_type": "execute_result"
    }
   ],
   "source": [
    "data = {\n",
    "    'A_mean': A_sample.ctr.mean(),\n",
    "    'B_mean': B_sample.ctr.mean(),\n",
    "    'A_std': np.std(A_sample.ctr,ddof=1),\n",
    "    'B_std': np.std(B_sample.ctr,ddof=1)\n",
    "}\n",
    "pd.Series(data).to_frame().T"
   ]
  },
  {
   "cell_type": "markdown",
   "id": "7f237090",
   "metadata": {},
   "source": [
    "Средние значения метрики ctr для двух групп похожи, вряд ли ttest заметит различия "
   ]
  },
  {
   "cell_type": "markdown",
   "id": "df2422e3",
   "metadata": {},
   "source": [
    "### ttest"
   ]
  },
  {
   "cell_type": "markdown",
   "id": "803fb7de",
   "metadata": {},
   "source": [
    "Сформулируем нулевую и альтернативную гипотезы:  \n",
    "**H0** - CTR нового алгоритма во 2-й группе $=$ CTR старого алгоритма в 1-й группе  \n",
    "**H1** - CTR нового алгоритма во 2-й группе $>$ CTR старого алгоритма в 1-й группе  \n",
    "\n",
    "Уровень значимости $\\alpha = 0.05$"
   ]
  },
  {
   "cell_type": "code",
   "execution_count": 22,
   "id": "c3971edd",
   "metadata": {},
   "outputs": [
    {
     "name": "stdout",
     "output_type": "stream",
     "text": [
      "pvalue: 0.4780623130874935\n",
      "Не получилось отвергнуть нулевую гипотезу\n"
     ]
    }
   ],
   "source": [
    "# для ctr\n",
    "ttest(A_sample.ctr,B_sample.ctr)"
   ]
  },
  {
   "cell_type": "code",
   "execution_count": 23,
   "id": "b29ae392",
   "metadata": {},
   "outputs": [
    {
     "name": "stdout",
     "output_type": "stream",
     "text": [
      "pvalue: 0.4476506334224234\n",
      "Не получилось отвергнуть нулевую гипотезу\n"
     ]
    }
   ],
   "source": [
    "# для сглаженного ctr\n",
    "ttest(A_sample.smothed_ctr,B_sample.smothed_ctr)"
   ]
  },
  {
   "cell_type": "markdown",
   "id": "7260cfed",
   "metadata": {},
   "source": [
    "ttest не отвергает нулевую гипотезу, т.е. различий нет, но распределения ctr двух групп различны"
   ]
  },
  {
   "cell_type": "markdown",
   "id": "33fc351d",
   "metadata": {},
   "source": [
    "### тест Манна-уитни"
   ]
  },
  {
   "cell_type": "code",
   "execution_count": 24,
   "id": "6096c6ac",
   "metadata": {},
   "outputs": [
    {
     "name": "stdout",
     "output_type": "stream",
     "text": [
      "pvalue: 6.0376484617779035e-56\n",
      "Отвергаем нулевую гипотезу\n"
     ]
    }
   ],
   "source": [
    "mannwhitneyu(A_sample.ctr,B_sample.ctr)"
   ]
  },
  {
   "cell_type": "markdown",
   "id": "713e19ad",
   "metadata": {},
   "source": [
    "Манн-уитни видит различия в группах"
   ]
  },
  {
   "cell_type": "markdown",
   "id": "b9bcf22c",
   "metadata": {},
   "source": [
    "### бутстреп"
   ]
  },
  {
   "cell_type": "code",
   "execution_count": 25,
   "id": "1f99a0a5",
   "metadata": {},
   "outputs": [],
   "source": [
    "ctr_1, ctr_2 = bootstrap(A_sample,B_sample)"
   ]
  },
  {
   "cell_type": "code",
   "execution_count": 26,
   "id": "09111162",
   "metadata": {},
   "outputs": [
    {
     "data": {
      "image/png": "[encoded data removed]",
      "text/plain": [
       "<Figure size 1512x432 with 1 Axes>"
      ]
     },
     "metadata": {},
     "output_type": "display_data"
    }
   ],
   "source": [
    "fig = plt.subplots(figsize=(21, 6))\n",
    "sns.histplot(ctr_1,color='r', label='2')\n",
    "sns.histplot(ctr_2,color='b', label='1')\n",
    "plt.title('Распределение глобального ctr после бутстреп')\n",
    "plt.legend()\n",
    "plt.show()"
   ]
  },
  {
   "cell_type": "markdown",
   "id": "87687a90",
   "metadata": {},
   "source": [
    "значения группы 2(новый алгоритм) и 1 даже не пересекаются, глобальный ctr группы 1 значительно лучше, чем группы 2"
   ]
  },
  {
   "cell_type": "markdown",
   "id": "09652fe5",
   "metadata": {},
   "source": [
    "### бакеты"
   ]
  },
  {
   "cell_type": "code",
   "execution_count": 27,
   "id": "ebeae589",
   "metadata": {},
   "outputs": [],
   "source": [
    "query = \"\"\"\n",
    "    SELECT exp_group,\n",
    "           xxHash64(user_id)%50 as bucket,\n",
    "           sum(action = 'like') as likes,\n",
    "           sum(action = 'view') as views,\n",
    "           likes/views as ctr\n",
    "    FROM {db}.feed_actions\n",
    "    WHERE toDate(time) BETWEEN '2022-07-13' AND '2022-07-19' AND exp_group IN (1,2)\n",
    "    GROUP BY exp_group, bucket\n",
    "\"\"\""
   ]
  },
  {
   "cell_type": "code",
   "execution_count": 28,
   "id": "cbe51336",
   "metadata": {},
   "outputs": [
    {
     "data": {
      "text/html": [
       "<div>\n",
       "<style scoped>\n",
       "    .dataframe tbody tr th:only-of-type {\n",
       "        vertical-align: middle;\n",
       "    }\n",
       "\n",
       "    .dataframe tbody tr th {\n",
       "        vertical-align: top;\n",
       "    }\n",
       "\n",
       "    .dataframe thead th {\n",
       "        text-align: right;\n",
       "    }\n",
       "</style>\n",
       "<table border=\"1\" class=\"dataframe\">\n",
       "  <thead>\n",
       "    <tr style=\"text-align: right;\">\n",
       "      <th></th>\n",
       "      <th>exp_group</th>\n",
       "      <th>bucket</th>\n",
       "      <th>likes</th>\n",
       "      <th>views</th>\n",
       "      <th>ctr</th>\n",
       "    </tr>\n",
       "  </thead>\n",
       "  <tbody>\n",
       "    <tr>\n",
       "      <th>0</th>\n",
       "      <td>1</td>\n",
       "      <td>0</td>\n",
       "      <td>2624</td>\n",
       "      <td>13355</td>\n",
       "      <td>0.196481</td>\n",
       "    </tr>\n",
       "    <tr>\n",
       "      <th>1</th>\n",
       "      <td>2</td>\n",
       "      <td>0</td>\n",
       "      <td>2634</td>\n",
       "      <td>13559</td>\n",
       "      <td>0.194262</td>\n",
       "    </tr>\n",
       "    <tr>\n",
       "      <th>2</th>\n",
       "      <td>1</td>\n",
       "      <td>1</td>\n",
       "      <td>2681</td>\n",
       "      <td>12653</td>\n",
       "      <td>0.211887</td>\n",
       "    </tr>\n",
       "    <tr>\n",
       "      <th>3</th>\n",
       "      <td>2</td>\n",
       "      <td>1</td>\n",
       "      <td>2686</td>\n",
       "      <td>12474</td>\n",
       "      <td>0.215328</td>\n",
       "    </tr>\n",
       "    <tr>\n",
       "      <th>4</th>\n",
       "      <td>1</td>\n",
       "      <td>2</td>\n",
       "      <td>3046</td>\n",
       "      <td>14767</td>\n",
       "      <td>0.206271</td>\n",
       "    </tr>\n",
       "  </tbody>\n",
       "</table>\n",
       "</div>"
      ],
      "text/plain": [
       "   exp_group  bucket  likes  views       ctr\n",
       "0          1       0   2624  13355  0.196481\n",
       "1          2       0   2634  13559  0.194262\n",
       "2          1       1   2681  12653  0.211887\n",
       "3          2       1   2686  12474  0.215328\n",
       "4          1       2   3046  14767  0.206271"
      ]
     },
     "execution_count": 28,
     "metadata": {},
     "output_type": "execute_result"
    }
   ],
   "source": [
    "buckets_df = select(query)\n",
    "buckets_df.head()"
   ]
  },
  {
   "cell_type": "code",
   "execution_count": 29,
   "id": "432f6b88",
   "metadata": {},
   "outputs": [],
   "source": [
    "A_sample_b = buckets_df[buckets_df['exp_group'] == 2].copy()\n",
    "B_sample_b = buckets_df[buckets_df['exp_group'] == 1].copy()"
   ]
  },
  {
   "cell_type": "code",
   "execution_count": 30,
   "id": "309ca31f",
   "metadata": {},
   "outputs": [
    {
     "data": {
      "image/png": "[encoded data removed]",
      "text/plain": [
       "<Figure size 864x432 with 1 Axes>"
      ]
     },
     "metadata": {},
     "output_type": "display_data"
    }
   ],
   "source": [
    "fig = plt.subplots(1, figsize=(12,6))\n",
    "sns.histplot(data=buckets_df, x='ctr', hue='exp_group', palette=['r', 'b'])\n",
    "plt.title('Распределение ctr для бакетов')\n",
    "plt.show()"
   ]
  },
  {
   "cell_type": "code",
   "execution_count": 31,
   "id": "ec43c313",
   "metadata": {},
   "outputs": [
    {
     "name": "stdout",
     "output_type": "stream",
     "text": [
      "pvalue: 2.859963936492646e-07\n",
      "Отвергаем нулевую гипотезу\n"
     ]
    }
   ],
   "source": [
    "mannwhitneyu(A_sample_b.ctr,B_sample_b.ctr)"
   ]
  },
  {
   "cell_type": "code",
   "execution_count": 32,
   "id": "b11ffa98",
   "metadata": {},
   "outputs": [
    {
     "name": "stdout",
     "output_type": "stream",
     "text": [
      "pvalue: 3.4455951649945907e-07\n",
      "Отвергаем нулевую гипотезу\n"
     ]
    }
   ],
   "source": [
    "ttest(A_sample_b.ctr,B_sample_b.ctr)"
   ]
  },
  {
   "cell_type": "markdown",
   "id": "e73d7be4",
   "metadata": {},
   "source": [
    "### Вывод:\n",
    "\n",
    "Основная гипотеза заключается в том, что новый алгоритм во 2-й группе приведет к увеличению CTR.  \n",
    "По итогам A/B тестов:\n",
    "* бустреп показал, что значения CTR для нового алгоритма значительно хуже значений CTR старого алгоритма\n",
    "* бакетное преобразование показало, что ctr для нового алгоритма хуже старого алгоритма, а тест манна-уитни и ттест видит различия  \n",
    "\n",
    "Распределение ctr в новом алгоритме условно разделилось на два полюса, где часть значений CTR для юзеров стала хуже и часть значений стала лучше. Возможно алгоритм недостаточно обучен, что он помечает неверно целевые посты, следует проанализорвать алгоритм и выяснить почему часть значений имеет более лучший результат по метрике ctr, а часть значений стала хуже. На данный момент не рекомендуется использовать новый алгоритм на всех пользователей."
   ]
  },
  {
   "cell_type": "markdown",
   "id": "956ad404",
   "metadata": {},
   "source": [
    "---"
   ]
  },
  {
   "cell_type": "markdown",
   "id": "652cbfb6",
   "metadata": {},
   "source": [
    "## Задание 3. "
   ]
  },
  {
   "cell_type": "markdown",
   "id": "83fc6830",
   "metadata": {},
   "source": [
    "**Задача**  \n",
    "Проанализируйте тест между группами 0 и 3 по метрике линеаризованных лайков. Видно ли отличие? Стало ли 𝑝−𝑣𝑎𝑙𝑢𝑒 меньше?  \n",
    "Проанализируйте тест между группами 1 и 2 по метрике линеаризованных лайков. Видно ли отличие? Стало ли 𝑝−𝑣𝑎𝑙𝑢𝑒 меньше?"
   ]
  },
  {
   "cell_type": "code",
   "execution_count": 33,
   "id": "f491b004",
   "metadata": {},
   "outputs": [],
   "source": [
    "def hist(data):\n",
    "    x = 'linearized_likes'\n",
    "    sns.histplot(\n",
    "    data=data,\n",
    "    x=x,\n",
    "    hue='exp_group',\n",
    "    palette=['r','b'],\n",
    "    alpha=0.5\n",
    ").set_title(f'Распределение {x}')"
   ]
  },
  {
   "cell_type": "markdown",
   "id": "ebe5942f",
   "metadata": {},
   "source": [
    "### Группы 0 и 3"
   ]
  },
  {
   "cell_type": "markdown",
   "id": "498613a6",
   "metadata": {},
   "source": [
    "**H0**: group 1 $=$ group 2  \n",
    "**H1**: group 1 $\\not=$ group 2"
   ]
  },
  {
   "cell_type": "code",
   "execution_count": 34,
   "id": "4706f788",
   "metadata": {},
   "outputs": [],
   "source": [
    "query = '''\n",
    "    SELECT exp_group,\n",
    "           user_id,\n",
    "           sum(action = 'like') as likes,\n",
    "           sum(action = 'view') as views,\n",
    "           likes/views as ctr\n",
    "    FROM {db}.feed_actions\n",
    "    WHERE toDate(time) BETWEEN '2022-07-13' AND '2022-07-19' AND exp_group IN (0,3)\n",
    "    GROUP BY exp_group, user_id\n",
    "'''"
   ]
  },
  {
   "cell_type": "code",
   "execution_count": 35,
   "id": "20c037cb",
   "metadata": {},
   "outputs": [],
   "source": [
    "df = select(query)"
   ]
  },
  {
   "cell_type": "code",
   "execution_count": 36,
   "id": "da617329",
   "metadata": {},
   "outputs": [],
   "source": [
    "ctr_control = df.query('exp_group == 0').likes.sum() / df.query('exp_group == 0').views.sum()\n",
    "df['linearized_likes'] = df.likes - ctr_control * df.views\n",
    "A_grp = df.query('exp_group == 0')\n",
    "B_grp = df.query('exp_group == 3')"
   ]
  },
  {
   "cell_type": "code",
   "execution_count": 37,
   "id": "ec46bd1b",
   "metadata": {},
   "outputs": [
    {
     "data": {
      "image/png": "[encoded data removed]",
      "text/plain": [
       "<Figure size 864x432 with 1 Axes>"
      ]
     },
     "metadata": {},
     "output_type": "display_data"
    }
   ],
   "source": [
    "fig, ax = plt.subplots(figsize=(12, 6))\n",
    "hist(df)\n",
    "plt.show()"
   ]
  },
  {
   "cell_type": "code",
   "execution_count": 38,
   "id": "9cf9af08",
   "metadata": {},
   "outputs": [
    {
     "name": "stdout",
     "output_type": "stream",
     "text": [
      "pvalue: 1.055849414662529e-43\n",
      "Отвергаем нулевую гипотезу\n"
     ]
    }
   ],
   "source": [
    "ttest(A_grp.ctr,B_grp.ctr)"
   ]
  },
  {
   "cell_type": "code",
   "execution_count": 39,
   "id": "70946e9a",
   "metadata": {},
   "outputs": [
    {
     "name": "stdout",
     "output_type": "stream",
     "text": [
      "pvalue: 5.4914249479687664e-52\n",
      "Отвергаем нулевую гипотезу\n"
     ]
    }
   ],
   "source": [
    "ttest(A_grp.linearized_likes,B_grp.linearized_likes)"
   ]
  },
  {
   "cell_type": "markdown",
   "id": "dc1fbe5a",
   "metadata": {},
   "source": [
    "в данных группах ттест видит различия между ними"
   ]
  },
  {
   "cell_type": "markdown",
   "id": "b6593eb2",
   "metadata": {},
   "source": [
    "### Группы 1 и 2"
   ]
  },
  {
   "cell_type": "markdown",
   "id": "b7b97791",
   "metadata": {},
   "source": [
    "**H0**: group 1 $=$ group 2  \n",
    "**H1**: group 1 $\\not=$ group 2"
   ]
  },
  {
   "cell_type": "code",
   "execution_count": 40,
   "id": "bde0be87",
   "metadata": {},
   "outputs": [],
   "source": [
    "query = '''\n",
    "    SELECT exp_group,\n",
    "           user_id,\n",
    "           sum(action = 'like') as likes,\n",
    "           sum(action = 'view') as views,\n",
    "           likes/views as ctr\n",
    "    FROM {db}.feed_actions\n",
    "    WHERE toDate(time) BETWEEN '2022-07-13' AND '2022-07-19' AND exp_group IN (1,2)\n",
    "    GROUP BY exp_group, user_id\n",
    "'''"
   ]
  },
  {
   "cell_type": "code",
   "execution_count": 41,
   "id": "7003722d",
   "metadata": {},
   "outputs": [],
   "source": [
    "df2 = select(query)"
   ]
  },
  {
   "cell_type": "code",
   "execution_count": 42,
   "id": "6119ee22",
   "metadata": {},
   "outputs": [],
   "source": [
    "ctr_control = df2.query('exp_group == 1').likes.sum() / df2.query('exp_group == 1').views.sum()\n",
    "df2['linearized_likes'] = df2.likes - ctr_control * df2.views\n",
    "A_grp_1 = df2.query('exp_group == 1')\n",
    "B_grp_2 = df2.query('exp_group == 2')"
   ]
  },
  {
   "cell_type": "code",
   "execution_count": 43,
   "id": "4011a7d5",
   "metadata": {},
   "outputs": [
    {
     "data": {
      "image/png": "[encoded data removed]",
      "text/plain": [
       "<Figure size 864x432 with 1 Axes>"
      ]
     },
     "metadata": {},
     "output_type": "display_data"
    }
   ],
   "source": [
    "fig, ax = plt.subplots(figsize=(12, 6))\n",
    "hist(df2)\n",
    "plt.show()"
   ]
  },
  {
   "cell_type": "markdown",
   "id": "2fd85476",
   "metadata": {},
   "source": [
    "распредение группы 2 стало более нормальным"
   ]
  },
  {
   "cell_type": "code",
   "execution_count": 44,
   "id": "fac82fa7",
   "metadata": {},
   "outputs": [
    {
     "name": "stdout",
     "output_type": "stream",
     "text": [
      "pvalue: 0.4780623130874935\n",
      "Не получилось отвергнуть нулевую гипотезу\n"
     ]
    }
   ],
   "source": [
    "ttest(A_grp_1.ctr,B_grp_2.ctr)"
   ]
  },
  {
   "cell_type": "code",
   "execution_count": 45,
   "id": "e09b8cc3",
   "metadata": {},
   "outputs": [
    {
     "name": "stdout",
     "output_type": "stream",
     "text": [
      "pvalue: 9.439432187037712e-10\n",
      "Отвергаем нулевую гипотезу\n"
     ]
    }
   ],
   "source": [
    "ttest(A_grp_1.linearized_likes,B_grp_2.linearized_likes)"
   ]
  },
  {
   "cell_type": "markdown",
   "id": "04f6059b",
   "metadata": {},
   "source": [
    "Линеаризованная метрика повысила чувствительность теста, что позволило увидить различия между группами."
   ]
  }
 ],
 "metadata": {
  "kernelspec": {
   "display_name": "Python 3 (ipykernel)",
   "language": "python",
   "name": "python3"
  },
  "language_info": {
   "codemirror_mode": {
    "name": "ipython",
    "version": 3
   },
   "file_extension": ".py",
   "mimetype": "text/x-python",
   "name": "python",
   "nbconvert_exporter": "python",
   "pygments_lexer": "ipython3",
   "version": "3.9.7"
  },
  "toc": {
   "base_numbering": 1,
   "nav_menu": {},
   "number_sections": true,
   "sideBar": true,
   "skip_h1_title": false,
   "title_cell": "Table of Contents",
   "title_sidebar": "Contents",
   "toc_cell": false,
   "toc_position": {},
   "toc_section_display": true,
   "toc_window_display": false
  }
 },
 "nbformat": 4,
 "nbformat_minor": 5
}
